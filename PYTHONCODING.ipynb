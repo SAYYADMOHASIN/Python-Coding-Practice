{
 "cells": [
  {
   "cell_type": "code",
   "execution_count": null,
   "metadata": {},
   "outputs": [],
   "source": [
    "#1 swap 2 variables with extra variable\n",
    "\n",
    "x = 10\n",
    "y = 20\n",
    "\n",
    "print(\"before swapping\")\n",
    "print(x)\n",
    "print(y)\n",
    "\n",
    "\n",
    "temp = x\n",
    "x = y\n",
    "y = temp\n",
    "\n",
    "print(\"after swapping\")\n",
    "print(x)\n",
    "print(y)\n",
    "\n"
   ]
  },
  {
   "cell_type": "code",
   "execution_count": null,
   "metadata": {},
   "outputs": [],
   "source": [
    "#2 swap two variables without extra variable\n",
    "\n",
    "x = 10 \n",
    "y = 20\n",
    "\n",
    "print(\"before swapping\")\n",
    "print(x)\n",
    "print(y)\n",
    "\n",
    "x = x+y\n",
    "y = x-y\n",
    "x = x-y\n",
    "\n",
    "print(\"after swapping\")\n",
    "print(x)\n",
    "print(y)\n",
    "\n",
    "\n"
   ]
  },
  {
   "cell_type": "code",
   "execution_count": null,
   "metadata": {
    "scrolled": true
   },
   "outputs": [],
   "source": [
    "#3 Factorial program\n",
    "\n",
    "num = int(input(\"Enter the number of your choice:\"))\n",
    "\n",
    "fact = 1\n",
    "\n",
    "for i in range(num,0,-1):\n",
    "    fact = fact * i\n",
    "    \n",
    "print('factorial of given',num,'is',fact)"
   ]
  },
  {
   "cell_type": "code",
   "execution_count": null,
   "metadata": {},
   "outputs": [],
   "source": []
  },
  {
   "cell_type": "code",
   "execution_count": null,
   "metadata": {},
   "outputs": [],
   "source": [
    "#4 Fibonacci program\n",
    "\n",
    "i = 0\n",
    "j = 1\n",
    "print(i)\n",
    "print(j)\n",
    "k = i + j\n",
    "\n",
    "\n",
    "while k<100:\n",
    "    \n",
    "    print(k)\n",
    "    \n",
    "    i = j\n",
    "    j = k\n",
    "    k = i + j\n",
    "\n",
    "    \n"
   ]
  },
  {
   "cell_type": "code",
   "execution_count": null,
   "metadata": {},
   "outputs": [],
   "source": [
    "#5 Prime number program\n",
    "\n",
    "num = int(input(\"Enter the number of your choice: \"))\n",
    "\n",
    "isprime = True\n",
    "for i in range(2,num):\n",
    "    if num % i == 0:\n",
    "        isprime = False\n",
    "        break\n",
    "if isprime:\n",
    "    print(\"Prime\")\n",
    "else:\n",
    "    print(\"Not prime\")\n",
    "\n",
    "   \n"
   ]
  },
  {
   "cell_type": "code",
   "execution_count": null,
   "metadata": {},
   "outputs": [],
   "source": [
    "num = int(input(\"Enter number to check: \"))\n",
    "isprime = True\n",
    "\n",
    "for i in range(2,num):\n",
    "    if num % i == 0:\n",
    "        isprime = False\n",
    "        break\n",
    "        \n",
    "if isprime:\n",
    "    print('prime')\n",
    "else:\n",
    "    print('not prime')"
   ]
  },
  {
   "cell_type": "code",
   "execution_count": null,
   "metadata": {},
   "outputs": [],
   "source": [
    "#6 palindrome number\n",
    "\n",
    "num =int(input(\"enter a number to find palindrome or not:\"))\n",
    "\n",
    "temp = num\n",
    "rev = 0\n",
    "\n",
    "while num>0:\n",
    "    last = num%10\n",
    "    num=num//10\n",
    "    rev=(rev*10)+last\n",
    "    \n",
    "print(\"reversed number is: \",rev)\n",
    "\n",
    "if rev == temp:\n",
    "     print(temp,'is palindrome number')\n",
    "else:\n",
    "     print(temp,'is not a palindrome number')\n"
   ]
  },
  {
   "cell_type": "code",
   "execution_count": null,
   "metadata": {},
   "outputs": [],
   "source": [
    "num = int(input(\"Enter the number: \"))\n",
    "\n",
    "temp = num\n",
    "rev = 0\n",
    "\n",
    "while num > 0:\n",
    "    last = num % 10 \n",
    "    num = num // 10\n",
    "    \n",
    "    rev = (rev*10)+last\n",
    "print(\"reversed number is: \",rev)\n",
    "\n",
    "if rev == temp:\n",
    "    print(temp,\"is a palindrome number\")\n",
    "else:\n",
    "    print(temp, \"is not a palindrome number\")\n",
    "    "
   ]
  },
  {
   "cell_type": "markdown",
   "metadata": {},
   "source": []
  },
  {
   "cell_type": "code",
   "execution_count": null,
   "metadata": {},
   "outputs": [],
   "source": [
    "#7 armstrong number\n",
    "\n",
    "num = int(input(\"enter the number\"))\n",
    "\n",
    "temp = num\n",
    "result = 0\n",
    "\n",
    "while num>0:\n",
    "    last = num % 10\n",
    "    num = num // 10\n",
    "    result = result + (last*last*last)\n",
    "    \n",
    "print('sum of cube is:', result)\n",
    "\n",
    "if result == temp:\n",
    "    print(temp,'This is an armstrong number')\n",
    "    \n",
    "else:\n",
    "    print(temp, 'This is not an armstrong number')"
   ]
  },
  {
   "cell_type": "code",
   "execution_count": null,
   "metadata": {},
   "outputs": [],
   "source": [
    "num = int(input(\"Enter any number: \"))\n",
    "temp = num\n",
    "res = 0\n",
    "while num > 0:\n",
    "    last = num % 10\n",
    "    num = num // 10\n",
    "    res = res+(last*last*last)\n",
    "    \n",
    "print(\"The sum of cube is: \",res)\n",
    "\n",
    "if temp == res:\n",
    "    print(temp,\"Number is a armstrong\")\n",
    "else:\n",
    "    print(temp,\"Number is not an armstrong\")"
   ]
  },
  {
   "cell_type": "code",
   "execution_count": 2,
   "metadata": {},
   "outputs": [
    {
     "name": "stdout",
     "output_type": "stream",
     "text": [
      "biggest number in list is 23\n"
     ]
    }
   ],
   "source": [
    "# Biggest elenment in a list\n",
    "\n",
    "mylist = [10,9,11,23,8]\n",
    "big = mylist[0]\n",
    "\n",
    "\n",
    "for item in mylist:\n",
    "    if item > big:\n",
    "        big = item\n",
    "        \n",
    "print('biggest number in list is',big)"
   ]
  },
  {
   "cell_type": "code",
   "execution_count": 2,
   "metadata": {},
   "outputs": [
    {
     "name": "stdout",
     "output_type": "stream",
     "text": [
      "11 found at position 3\n"
     ]
    }
   ],
   "source": [
    "# searching an element in an array\n",
    "\n",
    "mylist = [10,9,8,11,12]\n",
    "element = 11\n",
    "pos = -1\n",
    "\n",
    "\n",
    "for i in range(len(mylist)):\n",
    "    if element == mylist[i]:\n",
    "        pos = i\n",
    "        break\n",
    "    \n",
    "if pos == -1:\n",
    "    print(element,'not found')\n",
    "else:\n",
    "    print(element,'found at position',pos)"
   ]
  },
  {
   "cell_type": "code",
   "execution_count": null,
   "metadata": {},
   "outputs": [],
   "source": [
    "# Sorting an array -bubble sort\n",
    "\n",
    "\n",
    "mylist = [10,8,-9,11,12]\n",
    "len = len(mylist)\n",
    "\n",
    "for i in range(len):\n",
    "    for j in range(len-i-1):\n",
    "        if mylist[j] > mylist [j+1]:\n",
    "            mylist[j], mylist[j+1] = mylist[j+1], mylist[j]\n",
    "print(mylist)\n"
   ]
  },
  {
   "cell_type": "code",
   "execution_count": null,
   "metadata": {},
   "outputs": [],
   "source": [
    "mylist = [10,8,-9,11,12]\n",
    "leng = len(mylist)\n",
    "\n",
    "for i in range(leng):\n",
    "    for j in range(leng-i-1):\n",
    "        if mylist[j] > mylist [j+1]:\n",
    "            mylist[j], mylist[j+1] = mylist[j+1], mylist[j]\n",
    "print(mylist)"
   ]
  },
  {
   "cell_type": "code",
   "execution_count": 7,
   "metadata": {},
   "outputs": [
    {
     "name": "stdout",
     "output_type": "stream",
     "text": [
      "Enter name: jocsldjfopewf\n",
      "fwepofjdlscoj"
     ]
    }
   ],
   "source": [
    "name = input(\"Enter name: \")\n",
    "x = len(name)\n",
    "\n",
    "for i in range(x-1,-1,-1):\n",
    "    \n",
    "    print(name[i],end='')"
   ]
  },
  {
   "cell_type": "code",
   "execution_count": 6,
   "metadata": {},
   "outputs": [
    {
     "name": "stdout",
     "output_type": "stream",
     "text": [
      "Enter name of string: wrfe[gkog\n",
      "original string is: wrfe[gkog\n",
      "reversed string is: gokg[efrw\n",
      "Not a palindrome string\n"
     ]
    }
   ],
   "source": [
    "name = input(\"Enter name of string: \")\n",
    "x = len(name)\n",
    "rev = ''\n",
    "\n",
    "for i in range(x-1,-1,-1):\n",
    "    rev = rev+name[i]\n",
    "    \n",
    "print('original string is:',name)\n",
    "print('reversed string is:',rev)\n",
    "\n",
    "if rev == name:\n",
    "    print('palindrome string')\n",
    "else:\n",
    "    print('Not a palindrome string')"
   ]
  },
  {
   "cell_type": "code",
   "execution_count": 10,
   "metadata": {},
   "outputs": [
    {
     "name": "stdout",
     "output_type": "stream",
     "text": [
      "total words are... 6\n"
     ]
    }
   ],
   "source": [
    "name = 'palle tech python data science blore'\n",
    "count = 1\n",
    "\n",
    "for items in name:\n",
    "    if items == ' ':\n",
    "        count = count + 1\n",
    "print('total words are...',count)"
   ]
  },
  {
   "cell_type": "code",
   "execution_count": null,
   "metadata": {},
   "outputs": [],
   "source": [
    "# Reversing words in a string\n",
    "\n",
    "name = 'palle tech python data science'\n",
    "\n",
    "mylist = name.split(' ')\n",
    "\n",
    "for item in mylist:\n",
    "    length = len(item)\n",
    "    \n",
    "    for i in range(length-1,-1,-1):\n",
    "        print(item[i],end='')\n",
    "    print(' ',end='')\n"
   ]
  },
  {
   "cell_type": "code",
   "execution_count": 11,
   "metadata": {},
   "outputs": [
    {
     "name": "stdout",
     "output_type": "stream",
     "text": [
      "Total vowels are 9\n"
     ]
    }
   ],
   "source": [
    "# count vowels in a string\n",
    "\n",
    "name = 'palle tech python data science'\n",
    "\n",
    "count = 0\n",
    "\n",
    "for item in name:\n",
    "    if item in ('a','e','i','o','u'):\n",
    "        count = count + 1\n",
    "        \n",
    "print('Total vowels are',count)"
   ]
  },
  {
   "cell_type": "code",
   "execution_count": null,
   "metadata": {},
   "outputs": [],
   "source": [
    "#right angle triangle\n",
    "\n",
    "for i in range(1,5):\n",
    "    for j in range(i):\n",
    "        print('*',end='')\n",
    "    print()\n",
    "    "
   ]
  },
  {
   "cell_type": "code",
   "execution_count": null,
   "metadata": {},
   "outputs": [],
   "source": [
    "# reversed right angle triangle\n",
    "\n",
    "for i in range(4,0,-1):\n",
    "    for j in range(i):\n",
    "        print('*',end='')\n",
    "    print()"
   ]
  },
  {
   "cell_type": "code",
   "execution_count": null,
   "metadata": {
    "scrolled": true
   },
   "outputs": [],
   "source": [
    "# mirrored right angle triangle\n",
    "\n",
    "for i in range(1,5):\n",
    "    for j in range(1,5):\n",
    "        if i+j<=4:\n",
    "            print(' ',end='')\n",
    "        else:\n",
    "            print('*',end='')\n",
    "    print()"
   ]
  },
  {
   "cell_type": "code",
   "execution_count": null,
   "metadata": {},
   "outputs": [],
   "source": [
    "# mirrored reverse right angle triangle\n",
    "\n",
    "for i in range(4,0,-1):\n",
    "    for j in range(1,5):\n",
    "        if i+j<=4:\n",
    "            print(' ',end='')\n",
    "        else:\n",
    "            print('*',end='')\n",
    "    print()"
   ]
  },
  {
   "cell_type": "markdown",
   "metadata": {},
   "source": []
  }
 ],
 "metadata": {
  "kernelspec": {
   "display_name": "Python 3",
   "language": "python",
   "name": "python3"
  },
  "language_info": {
   "codemirror_mode": {
    "name": "ipython",
    "version": 3
   },
   "file_extension": ".py",
   "mimetype": "text/x-python",
   "name": "python",
   "nbconvert_exporter": "python",
   "pygments_lexer": "ipython3",
   "version": "3.7.6"
  }
 },
 "nbformat": 4,
 "nbformat_minor": 4
}
